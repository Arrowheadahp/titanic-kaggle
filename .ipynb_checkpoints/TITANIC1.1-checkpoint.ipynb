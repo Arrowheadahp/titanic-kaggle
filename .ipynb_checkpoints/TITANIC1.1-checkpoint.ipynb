{
 "cells": [
  {
   "cell_type": "code",
   "execution_count": 1,
   "metadata": {},
   "outputs": [],
   "source": [
    "import sys\n",
    "import pandas as pd\n",
    "import numpy as np\n",
    "import sklearn"
   ]
  },
  {
   "cell_type": "code",
   "execution_count": 2,
   "metadata": {},
   "outputs": [],
   "source": [
    "import matplotlib.pyplot as plt\n",
    "from matplotlib import style\n",
    "style.use('seaborn')"
   ]
  },
  {
   "cell_type": "code",
   "execution_count": 3,
   "metadata": {},
   "outputs": [],
   "source": [
    "from sklearn.model_selection import train_test_split, KFold, GridSearchCV, RandomizedSearchCV\n",
    "from sklearn.base import clone\n",
    "from sklearn.preprocessing import scale, StandardScaler\n",
    "\n",
    "from sklearn.svm import SVC\n",
    "from sklearn.ensemble import RandomForestClassifier"
   ]
  },
  {
   "cell_type": "code",
   "execution_count": 4,
   "metadata": {},
   "outputs": [],
   "source": [
    "import warnings\n",
    "warnings.filterwarnings('ignore')\n",
    "\n",
    "import IPython\n",
    "from IPython import display"
   ]
  },
  {
   "cell_type": "code",
   "execution_count": 5,
   "metadata": {},
   "outputs": [],
   "source": [
    "raw_train_data = pd.read_csv('data\\\\train.csv')\n",
    "raw_test_data = pd.read_csv('data\\\\test.csv')"
   ]
  },
  {
   "cell_type": "code",
   "execution_count": 6,
   "metadata": {},
   "outputs": [],
   "source": [
    "def clean(Original_DF):\n",
    "    DF = Original_DF.copy()\n",
    "    \n",
    "    age_map = [int(DF[DF.Pclass==c].Age.mean()) for c in range(1, 4)]\n",
    "    for c in range(1, 4):\n",
    "        DF.loc[\n",
    "            DF.Age.isnull() & (DF.Pclass==c), 'Age'\n",
    "        ] = age_map[c-1]\n",
    "    \n",
    "    Fare_map = [int(DF[DF.Pclass==c].Fare.mean()) for c in range(1, 4)]\n",
    "    for c in range(1, 4):\n",
    "        DF.loc[\n",
    "            DF.Fare.isnull() & (DF.Pclass==c), 'Fare'\n",
    "        ] = Fare_map[c-1]\n",
    "        \n",
    "    \n",
    "    sex_mapping = {'male': 1, 'female': 0}\n",
    "    DF['Sex'] = DF.Sex.map(sex_mapping)\n",
    "    \n",
    "    \n",
    "    \n",
    "    DF.Pclass = DF.Pclass.fillna(0)\n",
    "    \n",
    "    DF['FamilySize'] = DF.SibSp + DF.Parch\n",
    "    \n",
    "    DF['Embarked'] = DF.Embarked.fillna('S')\n",
    "    \n",
    "    DF['Cabin'] = DF.Cabin.map(lambda c: 0 if type(c) == float else 1)\n",
    "    \n",
    "    \n",
    "    DF['FareBand'] = DF.Fare\n",
    "    Fare_map = [(0, 7.91), (1, 14.454), (2, 31), (3, float('inf'))]\n",
    "    Fare_map.reverse()\n",
    "    for v, f in Fare_map:\n",
    "        DF.loc[DF.Fare <= f, 'FareBand'] = v\n",
    "    \n",
    "    \n",
    "    DF['FareBin'] = pd.qcut(DF.Fare, 4)\n",
    "    DF['AgeBin'] = pd.cut(DF.Age, 5)\n",
    "    \n",
    "    \n",
    "    \n",
    "    features = ['Pclass', 'Sex', 'Age', 'FamilySize', 'Fare', 'Embarked', 'Cabin']\n",
    "    \n",
    "    DF = DF[features]\n",
    "    DF = pd.get_dummies(DF)\n",
    "    \n",
    "    DF['Age'] = scale(DF.Age)\n",
    "    DF['Fare'] = scale(DF.Fare)\n",
    "    return DF"
   ]
  },
  {
   "cell_type": "code",
   "execution_count": 7,
   "metadata": {},
   "outputs": [],
   "source": [
    "train_X = clean(raw_train_data)\n",
    "test_X = clean(raw_test_data)\n",
    "\n",
    "y = raw_train_data.Survived"
   ]
  },
  {
   "cell_type": "code",
   "execution_count": 8,
   "metadata": {},
   "outputs": [],
   "source": [
    "P = train_X.copy()\n",
    "P['y']= y"
   ]
  },
  {
   "cell_type": "code",
   "execution_count": 9,
   "metadata": {},
   "outputs": [],
   "source": [
    "# scaler = StandardScaler().fit(train_X)\n",
    "# train_X = scaler.transform(train_X)\n",
    "# test_X = scaler.transform(test_X)"
   ]
  },
  {
   "cell_type": "code",
   "execution_count": 10,
   "metadata": {},
   "outputs": [],
   "source": [
    "parameters = {\n",
    "        'C': [10**p for p in [1, 2, 3, 4]], \n",
    "        'kernel': ['rbf'],\n",
    "        'gamma': [10**p for p in [-1, -2, -3]]\n",
    "    }"
   ]
  },
  {
   "cell_type": "code",
   "execution_count": 11,
   "metadata": {},
   "outputs": [],
   "source": [
    "gscv = GridSearchCV(SVC(), parameters)"
   ]
  },
  {
   "cell_type": "code",
   "execution_count": 12,
   "metadata": {},
   "outputs": [
    {
     "data": {
      "text/plain": [
       "GridSearchCV(estimator=SVC(),\n",
       "             param_grid={'C': [10, 100, 1000, 10000],\n",
       "                         'gamma': [0.1, 0.01, 0.001], 'kernel': ['rbf']})"
      ]
     },
     "execution_count": 12,
     "metadata": {},
     "output_type": "execute_result"
    }
   ],
   "source": [
    "gscv.fit(train_X, y)"
   ]
  },
  {
   "cell_type": "code",
   "execution_count": 13,
   "metadata": {},
   "outputs": [],
   "source": [
    "score = pd.DataFrame(gscv.cv_results_).sort_values('rank_test_score')#.head()"
   ]
  },
  {
   "cell_type": "code",
   "execution_count": 14,
   "metadata": {},
   "outputs": [
    {
     "data": {
      "text/html": [
       "<div>\n",
       "<style scoped>\n",
       "    .dataframe tbody tr th:only-of-type {\n",
       "        vertical-align: middle;\n",
       "    }\n",
       "\n",
       "    .dataframe tbody tr th {\n",
       "        vertical-align: top;\n",
       "    }\n",
       "\n",
       "    .dataframe thead th {\n",
       "        text-align: right;\n",
       "    }\n",
       "</style>\n",
       "<table border=\"1\" class=\"dataframe\">\n",
       "  <thead>\n",
       "    <tr style=\"text-align: right;\">\n",
       "      <th></th>\n",
       "      <th>params</th>\n",
       "      <th>mean_test_score</th>\n",
       "      <th>rank_test_score</th>\n",
       "      <th>std_test_score</th>\n",
       "    </tr>\n",
       "  </thead>\n",
       "  <tbody>\n",
       "    <tr>\n",
       "      <th>7</th>\n",
       "      <td>{'C': 1000, 'gamma': 0.01, 'kernel': 'rbf'}</td>\n",
       "      <td>0.827136</td>\n",
       "      <td>1</td>\n",
       "      <td>0.020713</td>\n",
       "    </tr>\n",
       "    <tr>\n",
       "      <th>4</th>\n",
       "      <td>{'C': 100, 'gamma': 0.01, 'kernel': 'rbf'}</td>\n",
       "      <td>0.826025</td>\n",
       "      <td>2</td>\n",
       "      <td>0.014360</td>\n",
       "    </tr>\n",
       "    <tr>\n",
       "      <th>0</th>\n",
       "      <td>{'C': 10, 'gamma': 0.1, 'kernel': 'rbf'}</td>\n",
       "      <td>0.823778</td>\n",
       "      <td>3</td>\n",
       "      <td>0.029727</td>\n",
       "    </tr>\n",
       "    <tr>\n",
       "      <th>11</th>\n",
       "      <td>{'C': 10000, 'gamma': 0.001, 'kernel': 'rbf'}</td>\n",
       "      <td>0.821537</td>\n",
       "      <td>4</td>\n",
       "      <td>0.014084</td>\n",
       "    </tr>\n",
       "    <tr>\n",
       "      <th>10</th>\n",
       "      <td>{'C': 10000, 'gamma': 0.01, 'kernel': 'rbf'}</td>\n",
       "      <td>0.805850</td>\n",
       "      <td>5</td>\n",
       "      <td>0.028892</td>\n",
       "    </tr>\n",
       "  </tbody>\n",
       "</table>\n",
       "</div>"
      ],
      "text/plain": [
       "                                           params  mean_test_score  \\\n",
       "7     {'C': 1000, 'gamma': 0.01, 'kernel': 'rbf'}         0.827136   \n",
       "4      {'C': 100, 'gamma': 0.01, 'kernel': 'rbf'}         0.826025   \n",
       "0        {'C': 10, 'gamma': 0.1, 'kernel': 'rbf'}         0.823778   \n",
       "11  {'C': 10000, 'gamma': 0.001, 'kernel': 'rbf'}         0.821537   \n",
       "10   {'C': 10000, 'gamma': 0.01, 'kernel': 'rbf'}         0.805850   \n",
       "\n",
       "    rank_test_score  std_test_score  \n",
       "7                 1        0.020713  \n",
       "4                 2        0.014360  \n",
       "0                 3        0.029727  \n",
       "11                4        0.014084  \n",
       "10                5        0.028892  "
      ]
     },
     "execution_count": 14,
     "metadata": {},
     "output_type": "execute_result"
    }
   ],
   "source": [
    "score[['params', 'mean_test_score', 'rank_test_score', 'std_test_score']].head()"
   ]
  },
  {
   "cell_type": "code",
   "execution_count": 15,
   "metadata": {},
   "outputs": [],
   "source": [
    "predictions = gscv.predict(test_X)\n",
    "output = pd.DataFrame({'PassengerID': raw_test_data.PassengerId, 'Survived': predictions})\n",
    "output.to_csv('preds\\\\svc2_3.csv', index = False)"
   ]
  },
  {
   "cell_type": "code",
   "execution_count": 16,
   "metadata": {},
   "outputs": [
    {
     "data": {
      "text/html": [
       "<div>\n",
       "<style scoped>\n",
       "    .dataframe tbody tr th:only-of-type {\n",
       "        vertical-align: middle;\n",
       "    }\n",
       "\n",
       "    .dataframe tbody tr th {\n",
       "        vertical-align: top;\n",
       "    }\n",
       "\n",
       "    .dataframe thead th {\n",
       "        text-align: right;\n",
       "    }\n",
       "</style>\n",
       "<table border=\"1\" class=\"dataframe\">\n",
       "  <thead>\n",
       "    <tr style=\"text-align: right;\">\n",
       "      <th></th>\n",
       "      <th>Pclass</th>\n",
       "      <th>Sex</th>\n",
       "      <th>Age</th>\n",
       "      <th>FamilySize</th>\n",
       "      <th>Fare</th>\n",
       "      <th>Cabin</th>\n",
       "      <th>Embarked_C</th>\n",
       "      <th>Embarked_Q</th>\n",
       "      <th>Embarked_S</th>\n",
       "    </tr>\n",
       "  </thead>\n",
       "  <tbody>\n",
       "    <tr>\n",
       "      <th>143</th>\n",
       "      <td>3</td>\n",
       "      <td>1</td>\n",
       "      <td>-0.776454</td>\n",
       "      <td>0</td>\n",
       "      <td>-0.512513</td>\n",
       "      <td>0</td>\n",
       "      <td>0</td>\n",
       "      <td>1</td>\n",
       "      <td>0</td>\n",
       "    </tr>\n",
       "    <tr>\n",
       "      <th>44</th>\n",
       "      <td>3</td>\n",
       "      <td>0</td>\n",
       "      <td>-0.776454</td>\n",
       "      <td>0</td>\n",
       "      <td>-0.489776</td>\n",
       "      <td>0</td>\n",
       "      <td>0</td>\n",
       "      <td>1</td>\n",
       "      <td>0</td>\n",
       "    </tr>\n",
       "    <tr>\n",
       "      <th>864</th>\n",
       "      <td>2</td>\n",
       "      <td>1</td>\n",
       "      <td>-0.397796</td>\n",
       "      <td>0</td>\n",
       "      <td>-0.386671</td>\n",
       "      <td>0</td>\n",
       "      <td>0</td>\n",
       "      <td>0</td>\n",
       "      <td>1</td>\n",
       "    </tr>\n",
       "    <tr>\n",
       "      <th>623</th>\n",
       "      <td>3</td>\n",
       "      <td>1</td>\n",
       "      <td>-0.624991</td>\n",
       "      <td>0</td>\n",
       "      <td>-0.490280</td>\n",
       "      <td>0</td>\n",
       "      <td>0</td>\n",
       "      <td>0</td>\n",
       "      <td>1</td>\n",
       "    </tr>\n",
       "    <tr>\n",
       "      <th>554</th>\n",
       "      <td>3</td>\n",
       "      <td>0</td>\n",
       "      <td>-0.549259</td>\n",
       "      <td>0</td>\n",
       "      <td>-0.491874</td>\n",
       "      <td>0</td>\n",
       "      <td>0</td>\n",
       "      <td>0</td>\n",
       "      <td>1</td>\n",
       "    </tr>\n",
       "    <tr>\n",
       "      <th>472</th>\n",
       "      <td>2</td>\n",
       "      <td>0</td>\n",
       "      <td>0.283787</td>\n",
       "      <td>3</td>\n",
       "      <td>-0.089684</td>\n",
       "      <td>0</td>\n",
       "      <td>0</td>\n",
       "      <td>0</td>\n",
       "      <td>1</td>\n",
       "    </tr>\n",
       "    <tr>\n",
       "      <th>628</th>\n",
       "      <td>3</td>\n",
       "      <td>1</td>\n",
       "      <td>-0.246333</td>\n",
       "      <td>0</td>\n",
       "      <td>-0.489442</td>\n",
       "      <td>0</td>\n",
       "      <td>0</td>\n",
       "      <td>0</td>\n",
       "      <td>1</td>\n",
       "    </tr>\n",
       "    <tr>\n",
       "      <th>698</th>\n",
       "      <td>1</td>\n",
       "      <td>1</td>\n",
       "      <td>1.495492</td>\n",
       "      <td>2</td>\n",
       "      <td>1.584179</td>\n",
       "      <td>1</td>\n",
       "      <td>1</td>\n",
       "      <td>0</td>\n",
       "      <td>0</td>\n",
       "    </tr>\n",
       "    <tr>\n",
       "      <th>754</th>\n",
       "      <td>2</td>\n",
       "      <td>0</td>\n",
       "      <td>1.419760</td>\n",
       "      <td>3</td>\n",
       "      <td>0.660333</td>\n",
       "      <td>0</td>\n",
       "      <td>0</td>\n",
       "      <td>0</td>\n",
       "      <td>1</td>\n",
       "    </tr>\n",
       "    <tr>\n",
       "      <th>655</th>\n",
       "      <td>2</td>\n",
       "      <td>1</td>\n",
       "      <td>-0.397796</td>\n",
       "      <td>2</td>\n",
       "      <td>0.831478</td>\n",
       "      <td>0</td>\n",
       "      <td>0</td>\n",
       "      <td>0</td>\n",
       "      <td>1</td>\n",
       "    </tr>\n",
       "  </tbody>\n",
       "</table>\n",
       "</div>"
      ],
      "text/plain": [
       "     Pclass  Sex       Age  FamilySize      Fare  Cabin  Embarked_C  \\\n",
       "143       3    1 -0.776454           0 -0.512513      0           0   \n",
       "44        3    0 -0.776454           0 -0.489776      0           0   \n",
       "864       2    1 -0.397796           0 -0.386671      0           0   \n",
       "623       3    1 -0.624991           0 -0.490280      0           0   \n",
       "554       3    0 -0.549259           0 -0.491874      0           0   \n",
       "472       2    0  0.283787           3 -0.089684      0           0   \n",
       "628       3    1 -0.246333           0 -0.489442      0           0   \n",
       "698       1    1  1.495492           2  1.584179      1           1   \n",
       "754       2    0  1.419760           3  0.660333      0           0   \n",
       "655       2    1 -0.397796           2  0.831478      0           0   \n",
       "\n",
       "     Embarked_Q  Embarked_S  \n",
       "143           1           0  \n",
       "44            1           0  \n",
       "864           0           1  \n",
       "623           0           1  \n",
       "554           0           1  \n",
       "472           0           1  \n",
       "628           0           1  \n",
       "698           0           0  \n",
       "754           0           1  \n",
       "655           0           1  "
      ]
     },
     "execution_count": 16,
     "metadata": {},
     "output_type": "execute_result"
    }
   ],
   "source": [
    "pd.DataFrame(train_X).sample(10)"
   ]
  },
  {
   "cell_type": "code",
   "execution_count": 17,
   "metadata": {},
   "outputs": [
    {
     "name": "stdout",
     "output_type": "stream",
     "text": [
      "<class 'pandas.core.frame.DataFrame'>\n",
      "RangeIndex: 891 entries, 0 to 890\n",
      "Data columns (total 9 columns):\n",
      " #   Column      Non-Null Count  Dtype  \n",
      "---  ------      --------------  -----  \n",
      " 0   Pclass      891 non-null    int64  \n",
      " 1   Sex         891 non-null    int64  \n",
      " 2   Age         891 non-null    float64\n",
      " 3   FamilySize  891 non-null    int64  \n",
      " 4   Fare        891 non-null    float64\n",
      " 5   Cabin       891 non-null    int64  \n",
      " 6   Embarked_C  891 non-null    uint8  \n",
      " 7   Embarked_Q  891 non-null    uint8  \n",
      " 8   Embarked_S  891 non-null    uint8  \n",
      "dtypes: float64(2), int64(4), uint8(3)\n",
      "memory usage: 44.5 KB\n"
     ]
    }
   ],
   "source": [
    "train_X.info()"
   ]
  },
  {
   "cell_type": "code",
   "execution_count": null,
   "metadata": {},
   "outputs": [],
   "source": []
  }
 ],
 "metadata": {
  "kernelspec": {
   "display_name": "Python 3",
   "language": "python",
   "name": "python3"
  },
  "language_info": {
   "codemirror_mode": {
    "name": "ipython",
    "version": 3
   },
   "file_extension": ".py",
   "mimetype": "text/x-python",
   "name": "python",
   "nbconvert_exporter": "python",
   "pygments_lexer": "ipython3",
   "version": "3.7.4"
  }
 },
 "nbformat": 4,
 "nbformat_minor": 4
}
