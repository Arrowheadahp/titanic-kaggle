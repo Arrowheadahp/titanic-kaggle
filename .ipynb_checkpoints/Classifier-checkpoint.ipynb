{
 "cells": [
  {
   "cell_type": "markdown",
   "metadata": {},
   "source": [
    "### Import Libraries"
   ]
  },
  {
   "cell_type": "code",
   "execution_count": 1,
   "metadata": {},
   "outputs": [],
   "source": [
    "import pandas as pd\n",
    "import numpy as np\n",
    "import sklearn\n",
    "\n",
    "import warnings\n",
    "warnings.filterwarnings('ignore')\n",
    "\n",
    "import matplotlib.pyplot as plt\n",
    "import seaborn as sns\n",
    "from matplotlib import style\n",
    "style.use('ggplot')"
   ]
  },
  {
   "cell_type": "code",
   "execution_count": 2,
   "metadata": {},
   "outputs": [],
   "source": [
    "from sklearn.model_selection import KFold, GridSearchCV, cross_validate, ParameterGrid\n",
    "from sklearn.feature_selection import RFECV\n",
    "from sklearn.base import clone\n",
    "from sklearn.preprocessing import StandardScaler, LabelEncoder\n",
    "\n",
    "from sklearn.neural_network import MLPClassifier\n",
    "from sklearn.neighbors import KNeighborsClassifier, RadiusNeighborsClassifier\n",
    "from sklearn.svm import SVC, LinearSVC, NuSVC\n",
    "from sklearn.gaussian_process import GaussianProcessClassifier\n",
    "from sklearn.tree import DecisionTreeClassifier, plot_tree\n",
    "from sklearn.ensemble import RandomForestClassifier, AdaBoostClassifier, GradientBoostingClassifier\n",
    "from sklearn.naive_bayes import GaussianNB\n",
    "from sklearn.discriminant_analysis import QuadraticDiscriminantAnalysis, LinearDiscriminantAnalysis\n",
    "from sklearn.linear_model import SGDClassifier, LogisticRegressionCV\n",
    "\n",
    "from sklearn import (\n",
    "    ensemble, \n",
    "    gaussian_process,\n",
    "    linear_model,\n",
    "    naive_bayes,\n",
    "    tree, \n",
    "    discriminant_analysis\n",
    ")\n",
    "\n",
    "from sklearn.ensemble import StackingClassifier, VotingClassifier"
   ]
  },
  {
   "cell_type": "markdown",
   "metadata": {},
   "source": [
    "### Import the Train data set and Test data set "
   ]
  },
  {
   "cell_type": "code",
   "execution_count": 3,
   "metadata": {},
   "outputs": [],
   "source": [
    "loc_train = 'data\\\\train.csv'\n",
    "loc_test = 'data\\\\test.csv'\n",
    "\n",
    "\n",
    "target = 'Survived'\n",
    "evaluation = 'accuracy'\n",
    "Id = 'PassengerId'\n",
    "\n",
    "raw_train_data = pd.read_csv(loc_train)\n",
    "y = raw_train_data[target]\n",
    "raw_train_data = raw_train_data.drop(target, axis=1)\n",
    "raw_test_data = pd.read_csv(loc_test)\n",
    "raw_train_data.head(5)"
   ]
  },
  {
   "cell_type": "code",
   "execution_count": 4,
   "metadata": {},
   "outputs": [
    {
     "data": {
      "text/html": [
       "<div>\n",
       "<style scoped>\n",
       "    .dataframe tbody tr th:only-of-type {\n",
       "        vertical-align: middle;\n",
       "    }\n",
       "\n",
       "    .dataframe tbody tr th {\n",
       "        vertical-align: top;\n",
       "    }\n",
       "\n",
       "    .dataframe thead th {\n",
       "        text-align: right;\n",
       "    }\n",
       "</style>\n",
       "<table border=\"1\" class=\"dataframe\">\n",
       "  <thead>\n",
       "    <tr style=\"text-align: right;\">\n",
       "      <th></th>\n",
       "      <th>sepal length (cm)</th>\n",
       "      <th>sepal width (cm)</th>\n",
       "      <th>petal length (cm)</th>\n",
       "      <th>petal width (cm)</th>\n",
       "    </tr>\n",
       "  </thead>\n",
       "  <tbody>\n",
       "    <tr>\n",
       "      <th>141</th>\n",
       "      <td>6.9</td>\n",
       "      <td>3.1</td>\n",
       "      <td>5.1</td>\n",
       "      <td>2.3</td>\n",
       "    </tr>\n",
       "    <tr>\n",
       "      <th>40</th>\n",
       "      <td>5.0</td>\n",
       "      <td>3.5</td>\n",
       "      <td>1.3</td>\n",
       "      <td>0.3</td>\n",
       "    </tr>\n",
       "    <tr>\n",
       "      <th>97</th>\n",
       "      <td>6.2</td>\n",
       "      <td>2.9</td>\n",
       "      <td>4.3</td>\n",
       "      <td>1.3</td>\n",
       "    </tr>\n",
       "    <tr>\n",
       "      <th>14</th>\n",
       "      <td>5.8</td>\n",
       "      <td>4.0</td>\n",
       "      <td>1.2</td>\n",
       "      <td>0.2</td>\n",
       "    </tr>\n",
       "    <tr>\n",
       "      <th>100</th>\n",
       "      <td>6.3</td>\n",
       "      <td>3.3</td>\n",
       "      <td>6.0</td>\n",
       "      <td>2.5</td>\n",
       "    </tr>\n",
       "  </tbody>\n",
       "</table>\n",
       "</div>"
      ],
      "text/plain": [
       "     sepal length (cm)  sepal width (cm)  petal length (cm)  petal width (cm)\n",
       "141                6.9               3.1                5.1               2.3\n",
       "40                 5.0               3.5                1.3               0.3\n",
       "97                 6.2               2.9                4.3               1.3\n",
       "14                 5.8               4.0                1.2               0.2\n",
       "100                6.3               3.3                6.0               2.5"
      ]
     },
     "execution_count": 4,
     "metadata": {},
     "output_type": "execute_result"
    }
   ],
   "source": [
    "# from sklearn.model_selection import train_test_split\n",
    "# from sklearn.datasets import load_iris\n",
    "# R, t = load_iris(True, True)\n",
    "# raw_train_data, raw_test_data, y, v = train_test_split(R, t, random_state=47)\n",
    "# raw_train_data.head(5)"
   ]
  },
  {
   "cell_type": "code",
   "execution_count": 5,
   "metadata": {},
   "outputs": [
    {
     "name": "stdout",
     "output_type": "stream",
     "text": [
      "<class 'pandas.core.frame.DataFrame'>\n",
      "Int64Index: 112 entries, 141 to 135\n",
      "Data columns (total 4 columns):\n",
      " #   Column             Non-Null Count  Dtype  \n",
      "---  ------             --------------  -----  \n",
      " 0   sepal length (cm)  112 non-null    float64\n",
      " 1   sepal width (cm)   112 non-null    float64\n",
      " 2   petal length (cm)  112 non-null    float64\n",
      " 3   petal width (cm)   112 non-null    float64\n",
      "dtypes: float64(4)\n",
      "memory usage: 4.4 KB\n"
     ]
    }
   ],
   "source": [
    "raw_train_data.info()"
   ]
  },
  {
   "cell_type": "code",
   "execution_count": 6,
   "metadata": {},
   "outputs": [
    {
     "data": {
      "text/html": [
       "<div>\n",
       "<style scoped>\n",
       "    .dataframe tbody tr th:only-of-type {\n",
       "        vertical-align: middle;\n",
       "    }\n",
       "\n",
       "    .dataframe tbody tr th {\n",
       "        vertical-align: top;\n",
       "    }\n",
       "\n",
       "    .dataframe thead th {\n",
       "        text-align: right;\n",
       "    }\n",
       "</style>\n",
       "<table border=\"1\" class=\"dataframe\">\n",
       "  <thead>\n",
       "    <tr style=\"text-align: right;\">\n",
       "      <th></th>\n",
       "      <th>sepal length (cm)</th>\n",
       "      <th>sepal width (cm)</th>\n",
       "      <th>petal length (cm)</th>\n",
       "      <th>petal width (cm)</th>\n",
       "    </tr>\n",
       "  </thead>\n",
       "  <tbody>\n",
       "    <tr>\n",
       "      <th>count</th>\n",
       "      <td>112.000000</td>\n",
       "      <td>112.000000</td>\n",
       "      <td>112.000000</td>\n",
       "      <td>112.000000</td>\n",
       "    </tr>\n",
       "    <tr>\n",
       "      <th>mean</th>\n",
       "      <td>5.817857</td>\n",
       "      <td>3.008036</td>\n",
       "      <td>3.757143</td>\n",
       "      <td>1.210714</td>\n",
       "    </tr>\n",
       "    <tr>\n",
       "      <th>std</th>\n",
       "      <td>0.809984</td>\n",
       "      <td>0.413105</td>\n",
       "      <td>1.714575</td>\n",
       "      <td>0.745117</td>\n",
       "    </tr>\n",
       "    <tr>\n",
       "      <th>min</th>\n",
       "      <td>4.300000</td>\n",
       "      <td>2.000000</td>\n",
       "      <td>1.000000</td>\n",
       "      <td>0.100000</td>\n",
       "    </tr>\n",
       "    <tr>\n",
       "      <th>25%</th>\n",
       "      <td>5.100000</td>\n",
       "      <td>2.700000</td>\n",
       "      <td>1.575000</td>\n",
       "      <td>0.300000</td>\n",
       "    </tr>\n",
       "    <tr>\n",
       "      <th>50%</th>\n",
       "      <td>5.800000</td>\n",
       "      <td>3.000000</td>\n",
       "      <td>4.400000</td>\n",
       "      <td>1.300000</td>\n",
       "    </tr>\n",
       "    <tr>\n",
       "      <th>75%</th>\n",
       "      <td>6.400000</td>\n",
       "      <td>3.200000</td>\n",
       "      <td>5.100000</td>\n",
       "      <td>1.800000</td>\n",
       "    </tr>\n",
       "    <tr>\n",
       "      <th>max</th>\n",
       "      <td>7.700000</td>\n",
       "      <td>4.200000</td>\n",
       "      <td>6.900000</td>\n",
       "      <td>2.500000</td>\n",
       "    </tr>\n",
       "  </tbody>\n",
       "</table>\n",
       "</div>"
      ],
      "text/plain": [
       "       sepal length (cm)  sepal width (cm)  petal length (cm)  \\\n",
       "count         112.000000        112.000000         112.000000   \n",
       "mean            5.817857          3.008036           3.757143   \n",
       "std             0.809984          0.413105           1.714575   \n",
       "min             4.300000          2.000000           1.000000   \n",
       "25%             5.100000          2.700000           1.575000   \n",
       "50%             5.800000          3.000000           4.400000   \n",
       "75%             6.400000          3.200000           5.100000   \n",
       "max             7.700000          4.200000           6.900000   \n",
       "\n",
       "       petal width (cm)  \n",
       "count        112.000000  \n",
       "mean           1.210714  \n",
       "std            0.745117  \n",
       "min            0.100000  \n",
       "25%            0.300000  \n",
       "50%            1.300000  \n",
       "75%            1.800000  \n",
       "max            2.500000  "
      ]
     },
     "execution_count": 6,
     "metadata": {},
     "output_type": "execute_result"
    }
   ],
   "source": [
    "raw_train_data.describe()"
   ]
  },
  {
   "cell_type": "markdown",
   "metadata": {},
   "source": [
    "### Prepare the data for Machine Learning"
   ]
  },
  {
   "cell_type": "code",
   "execution_count": 7,
   "metadata": {},
   "outputs": [],
   "source": [
    "def prepare(raw_DF):\n",
    "    DF = raw_DF.copy()\n",
    "    \n",
    "    if 'Id' in DF.columns:\n",
    "        DF.drop('Id', axis= 1, inplace= True)\n",
    "    \n",
    "    return DF"
   ]
  },
  {
   "cell_type": "code",
   "execution_count": 8,
   "metadata": {},
   "outputs": [
    {
     "data": {
      "text/html": [
       "<div>\n",
       "<style scoped>\n",
       "    .dataframe tbody tr th:only-of-type {\n",
       "        vertical-align: middle;\n",
       "    }\n",
       "\n",
       "    .dataframe tbody tr th {\n",
       "        vertical-align: top;\n",
       "    }\n",
       "\n",
       "    .dataframe thead th {\n",
       "        text-align: right;\n",
       "    }\n",
       "</style>\n",
       "<table border=\"1\" class=\"dataframe\">\n",
       "  <thead>\n",
       "    <tr style=\"text-align: right;\">\n",
       "      <th></th>\n",
       "      <th>sepal length (cm)</th>\n",
       "      <th>sepal width (cm)</th>\n",
       "      <th>petal length (cm)</th>\n",
       "      <th>petal width (cm)</th>\n",
       "      <th>y</th>\n",
       "    </tr>\n",
       "  </thead>\n",
       "  <tbody>\n",
       "    <tr>\n",
       "      <th>141</th>\n",
       "      <td>6.9</td>\n",
       "      <td>3.1</td>\n",
       "      <td>5.1</td>\n",
       "      <td>2.3</td>\n",
       "      <td>2</td>\n",
       "    </tr>\n",
       "    <tr>\n",
       "      <th>40</th>\n",
       "      <td>5.0</td>\n",
       "      <td>3.5</td>\n",
       "      <td>1.3</td>\n",
       "      <td>0.3</td>\n",
       "      <td>0</td>\n",
       "    </tr>\n",
       "    <tr>\n",
       "      <th>97</th>\n",
       "      <td>6.2</td>\n",
       "      <td>2.9</td>\n",
       "      <td>4.3</td>\n",
       "      <td>1.3</td>\n",
       "      <td>1</td>\n",
       "    </tr>\n",
       "    <tr>\n",
       "      <th>14</th>\n",
       "      <td>5.8</td>\n",
       "      <td>4.0</td>\n",
       "      <td>1.2</td>\n",
       "      <td>0.2</td>\n",
       "      <td>0</td>\n",
       "    </tr>\n",
       "    <tr>\n",
       "      <th>100</th>\n",
       "      <td>6.3</td>\n",
       "      <td>3.3</td>\n",
       "      <td>6.0</td>\n",
       "      <td>2.5</td>\n",
       "      <td>2</td>\n",
       "    </tr>\n",
       "  </tbody>\n",
       "</table>\n",
       "</div>"
      ],
      "text/plain": [
       "     sepal length (cm)  sepal width (cm)  petal length (cm)  petal width (cm)  \\\n",
       "141                6.9               3.1                5.1               2.3   \n",
       "40                 5.0               3.5                1.3               0.3   \n",
       "97                 6.2               2.9                4.3               1.3   \n",
       "14                 5.8               4.0                1.2               0.2   \n",
       "100                6.3               3.3                6.0               2.5   \n",
       "\n",
       "     y  \n",
       "141  2  \n",
       "40   0  \n",
       "97   1  \n",
       "14   0  \n",
       "100  2  "
      ]
     },
     "execution_count": 8,
     "metadata": {},
     "output_type": "execute_result"
    }
   ],
   "source": [
    "train_X = prepare(raw_train_data)\n",
    "test_X = prepare(raw_test_data)\n",
    "\n",
    "F = train_X.copy()\n",
    "F['y'] = y\n",
    "F.head()"
   ]
  },
  {
   "cell_type": "code",
   "execution_count": 9,
   "metadata": {},
   "outputs": [
    {
     "name": "stdout",
     "output_type": "stream",
     "text": [
      "<class 'pandas.core.frame.DataFrame'>\n",
      "Int64Index: 112 entries, 141 to 135\n",
      "Data columns (total 5 columns):\n",
      " #   Column             Non-Null Count  Dtype  \n",
      "---  ------             --------------  -----  \n",
      " 0   sepal length (cm)  112 non-null    float64\n",
      " 1   sepal width (cm)   112 non-null    float64\n",
      " 2   petal length (cm)  112 non-null    float64\n",
      " 3   petal width (cm)   112 non-null    float64\n",
      " 4   y                  112 non-null    int32  \n",
      "dtypes: float64(4), int32(1)\n",
      "memory usage: 4.8 KB\n"
     ]
    }
   ],
   "source": [
    "F.info()"
   ]
  },
  {
   "cell_type": "markdown",
   "metadata": {},
   "source": [
    "### Visualize"
   ]
  },
  {
   "cell_type": "code",
   "execution_count": 10,
   "metadata": {},
   "outputs": [
    {
     "data": {
      "text/plain": [
       "y                    1.000000\n",
       "petal width (cm)     0.951579\n",
       "petal length (cm)    0.941538\n",
       "sepal length (cm)    0.764725\n",
       "sepal width (cm)     0.420166\n",
       "Name: y, dtype: float64"
      ]
     },
     "execution_count": 10,
     "metadata": {},
     "output_type": "execute_result"
    }
   ],
   "source": [
    "F.corr().abs().sort_values('y', ascending=False).y"
   ]
  },
  {
   "cell_type": "code",
   "execution_count": 11,
   "metadata": {},
   "outputs": [
    {
     "data": {
      "image/png": "[encoded data removed]",
      "text/plain": [
       "<Figure size 1008x648 with 1 Axes>"
      ]
     },
     "metadata": {},
     "output_type": "display_data"
    }
   ],
   "source": [
    "dt = DecisionTreeClassifier().fit(train_X, y)\n",
    "plt.figure(figsize = (14, 9))\n",
    "plot_tree(dt, \n",
    "          max_depth = 3, \n",
    "          filled = True, \n",
    "          fontsize=12, \n",
    "          label='root', \n",
    "          impurity=False, \n",
    "          feature_names=train_X.columns\n",
    "         )\n",
    "plt.title('Features')\n",
    "plt.show()"
   ]
  },
  {
   "cell_type": "markdown",
   "metadata": {},
   "source": [
    "### List of Classifiers\n",
    "https://scikit-learn.org/stable/supervised_learning.html"
   ]
  },
  {
   "cell_type": "code",
   "execution_count": 12,
   "metadata": {},
   "outputs": [],
   "source": [
    "# https://scikit-learn.org/stable/supervised_learning.html\n",
    "\n",
    "Classifiers_small = [\n",
    "    MLPClassifier(), \n",
    "    KNeighborsClassifier(), \n",
    "    SVC(class_weight='balanced'), \n",
    "    SGDClassifier(class_weight='balanced'), \n",
    "    RandomForestClassifier(class_weight='balanced')\n",
    "]\n",
    "\n",
    "Classifiers_medium = [\n",
    "    LinearSVC(class_weight='balanced'),\n",
    "    GaussianProcessClassifier(), \n",
    "    DecisionTreeClassifier(class_weight='balanced'), \n",
    "    AdaBoostClassifier(), \n",
    "    GaussianNB(), \n",
    "    QuadraticDiscriminantAnalysis(), \n",
    "    GradientBoostingClassifier(), \n",
    "]\n",
    "\n",
    "Classifiers_large = [    \n",
    "    linear_model.LogisticRegressionCV(), \n",
    "    linear_model.PassiveAggressiveClassifier(), \n",
    "    linear_model.RidgeClassifierCV(), \n",
    "    linear_model.Perceptron(), \n",
    "    \n",
    "    NuSVC(class_weight='balanced'), \n",
    "    LinearDiscriminantAnalysis(),\n",
    "    \n",
    "    naive_bayes.MultinomialNB(), \n",
    "    naive_bayes.ComplementNB(), \n",
    "    naive_bayes.BernoulliNB(), \n",
    "    naive_bayes.CategoricalNB(), \n",
    "    \n",
    "    ensemble.ExtraTreesClassifier(class_weight='balanced'),\n",
    "]"
   ]
  },
  {
   "cell_type": "markdown",
   "metadata": {},
   "source": [
    "### Tips on Practical Use of some classifiers\n",
    "\n",
    "https://scikit-learn.org/stable/modules/svm.html#tips-on-practical-use\n",
    "\n",
    "https://scikit-learn.org/stable/modules/sgd.html#tips-on-practical-use\n",
    "\n",
    "https://scikit-learn.org/stable/modules/tree.html#tips-on-practical-use\n",
    "\n",
    "https://scikit-learn.org/stable/modules/neural_networks_supervised.html#tips-on-practical-use\n"
   ]
  },
  {
   "cell_type": "markdown",
   "metadata": {},
   "source": [
    "### Parameter Grid"
   ]
  },
  {
   "cell_type": "code",
   "execution_count": 13,
   "metadata": {},
   "outputs": [],
   "source": [
    "# parameter tuning\n",
    "mlpc_parameters = {\n",
    "    'activation': ['relu', 'logistic'], \n",
    "    'alpha': 10.0 ** -np.arange(1, 7),\n",
    "}\n",
    "\n",
    "knn_parameters = {\n",
    "    'n_neighbors': range(1, 20),\n",
    "    'weights': ['uniform', 'distance']\n",
    "}\n",
    "\n",
    "svc_parameters = {\n",
    "    'class_weight': ['balanced', None],\n",
    "    'gamma': ['scale', 'auto']    \n",
    "}\n",
    "\n",
    "sgd_parameters = {\n",
    "    'alpha': 10.0**-np.arange(1,7),\n",
    "    'class_weight': [None, 'balanced'],\n",
    "}\n",
    "\n",
    "rf_parameters = {\n",
    "    'n_estimators': [500], \n",
    "    'class_weight': ['balanced', None]\n",
    "}"
   ]
  },
  {
   "cell_type": "markdown",
   "metadata": {},
   "source": [
    "### Making the list of Classifiers"
   ]
  },
  {
   "cell_type": "code",
   "execution_count": 14,
   "metadata": {},
   "outputs": [],
   "source": [
    "mlpc_models = [MLPClassifier(**params) for params in ParameterGrid(mlpc_parameters)]\n",
    "knn_models = [KNeighborsClassifier(**params) for params in ParameterGrid(knn_parameters)]\n",
    "svc_models = [SVC(**params) for params in ParameterGrid(svc_parameters)]\n",
    "sgd_models = [SGDClassifier(**params) for params in ParameterGrid(sgd_parameters)]\n",
    "rf_models = [RandomForestClassifier(**params) for params in ParameterGrid(rf_parameters)]"
   ]
  },
  {
   "cell_type": "code",
   "execution_count": 15,
   "metadata": {},
   "outputs": [],
   "source": [
    "MLA = Classifiers_small\n",
    "MLA = mlpc_models + knn_models + svc_models + sgd_models + rf_models\n",
    "MLA = MLA + Classifiers_medium\n",
    "MLA = MLA + Classifiers_large"
   ]
  },
  {
   "cell_type": "markdown",
   "metadata": {},
   "source": [
    "### Checking the accuracy of each of the Classifiers\n",
    "https://scikit-learn.org/stable/modules/generated/sklearn.model_selection.cross_validate.html"
   ]
  },
  {
   "cell_type": "code",
   "execution_count": 16,
   "metadata": {},
   "outputs": [],
   "source": [
    "paramlist = ['activation', 'alpha', 'class_weight', 'n_neighbours', 'weights', 'gamma', 'n_estimators',\n",
    "            'final_estimator']\n",
    "scoring_metrics = ['accuracy', 'balanced_accuracy']\n",
    "metrics = ['fit_time'] +  ['test_'+m for m in scoring_metrics]\n",
    "\n",
    "\n",
    "def cv(alg, X, y):\n",
    "    name = alg.__class__.__name__\n",
    "#     params = alg.get_params()\n",
    "#     imp_params = {p: params[p] for p in params if p in paramlist}\n",
    "    \n",
    "    score = pd.DataFrame(cross_validate(alg, X, y, scoring=scoring_metrics))\n",
    "    \n",
    "    df = pd.DataFrame({\n",
    "        name: [alg] + \n",
    "        #[imp_params] + \n",
    "        [score[i].mean() for i in metrics] + [score['test_accuracy'].std()]\n",
    "    })\n",
    "    \n",
    "    return df.transpose()\n",
    "\n",
    "\n",
    "def CVscoreDF(MLA, X, y):\n",
    "    M = pd.DataFrame()\n",
    "    for alg in MLA:\n",
    "        M = M.append(cv(alg, X, y))\n",
    "\n",
    "    M = M.rename(columns={i: c for i, c in enumerate(['models']+metrics+['std_test_score'])})\n",
    "    M = M.sort_values('test_accuracy', ascending = False)\n",
    "    return M"
   ]
  },
  {
   "cell_type": "code",
   "execution_count": 17,
   "metadata": {
    "scrolled": true
   },
   "outputs": [
    {
     "data": {
      "text/html": [
       "<div>\n",
       "<style scoped>\n",
       "    .dataframe tbody tr th:only-of-type {\n",
       "        vertical-align: middle;\n",
       "    }\n",
       "\n",
       "    .dataframe tbody tr th {\n",
       "        vertical-align: top;\n",
       "    }\n",
       "\n",
       "    .dataframe thead th {\n",
       "        text-align: right;\n",
       "    }\n",
       "</style>\n",
       "<table border=\"1\" class=\"dataframe\">\n",
       "  <thead>\n",
       "    <tr style=\"text-align: right;\">\n",
       "      <th></th>\n",
       "      <th>models</th>\n",
       "      <th>fit_time</th>\n",
       "      <th>test_accuracy</th>\n",
       "      <th>test_balanced_accuracy</th>\n",
       "      <th>std_test_score</th>\n",
       "    </tr>\n",
       "  </thead>\n",
       "  <tbody>\n",
       "    <tr>\n",
       "      <th>KNeighborsClassifier</th>\n",
       "      <td>KNeighborsClassifier(n_neighbors=13, weights='...</td>\n",
       "      <td>0.00520067</td>\n",
       "      <td>0.973518</td>\n",
       "      <td>0.974735</td>\n",
       "      <td>0.0391185</td>\n",
       "    </tr>\n",
       "    <tr>\n",
       "      <th>MLPClassifier</th>\n",
       "      <td>MLPClassifier(activation='logistic', alpha=0.01)</td>\n",
       "      <td>0.25959</td>\n",
       "      <td>0.973518</td>\n",
       "      <td>0.973545</td>\n",
       "      <td>0.0391185</td>\n",
       "    </tr>\n",
       "    <tr>\n",
       "      <th>KNeighborsClassifier</th>\n",
       "      <td>KNeighborsClassifier(n_neighbors=11, weights='...</td>\n",
       "      <td>0.00519938</td>\n",
       "      <td>0.973518</td>\n",
       "      <td>0.974735</td>\n",
       "      <td>0.0391185</td>\n",
       "    </tr>\n",
       "    <tr>\n",
       "      <th>MLPClassifier</th>\n",
       "      <td>MLPClassifier(alpha=0.1)</td>\n",
       "      <td>0.357419</td>\n",
       "      <td>0.973123</td>\n",
       "      <td>0.974735</td>\n",
       "      <td>0.0404439</td>\n",
       "    </tr>\n",
       "    <tr>\n",
       "      <th>LinearDiscriminantAnalysis</th>\n",
       "      <td>LinearDiscriminantAnalysis()</td>\n",
       "      <td>0.00819416</td>\n",
       "      <td>0.973123</td>\n",
       "      <td>0.974735</td>\n",
       "      <td>0.0404439</td>\n",
       "    </tr>\n",
       "    <tr>\n",
       "      <th>QuadraticDiscriminantAnalysis</th>\n",
       "      <td>QuadraticDiscriminantAnalysis()</td>\n",
       "      <td>0.0304033</td>\n",
       "      <td>0.973123</td>\n",
       "      <td>0.974735</td>\n",
       "      <td>0.0404439</td>\n",
       "    </tr>\n",
       "    <tr>\n",
       "      <th>KNeighborsClassifier</th>\n",
       "      <td>KNeighborsClassifier(n_neighbors=10)</td>\n",
       "      <td>0.00500889</td>\n",
       "      <td>0.964427</td>\n",
       "      <td>0.965212</td>\n",
       "      <td>0.036628</td>\n",
       "    </tr>\n",
       "    <tr>\n",
       "      <th>KNeighborsClassifier</th>\n",
       "      <td>KNeighborsClassifier(n_neighbors=10, weights='...</td>\n",
       "      <td>0.0049902</td>\n",
       "      <td>0.964427</td>\n",
       "      <td>0.966402</td>\n",
       "      <td>0.0487305</td>\n",
       "    </tr>\n",
       "    <tr>\n",
       "      <th>KNeighborsClassifier</th>\n",
       "      <td>KNeighborsClassifier(n_neighbors=11)</td>\n",
       "      <td>0.0047997</td>\n",
       "      <td>0.964427</td>\n",
       "      <td>0.965212</td>\n",
       "      <td>0.036628</td>\n",
       "    </tr>\n",
       "    <tr>\n",
       "      <th>KNeighborsClassifier</th>\n",
       "      <td>KNeighborsClassifier(n_neighbors=12)</td>\n",
       "      <td>0.00500808</td>\n",
       "      <td>0.964427</td>\n",
       "      <td>0.965212</td>\n",
       "      <td>0.036628</td>\n",
       "    </tr>\n",
       "  </tbody>\n",
       "</table>\n",
       "</div>"
      ],
      "text/plain": [
       "                                                                          models  \\\n",
       "KNeighborsClassifier           KNeighborsClassifier(n_neighbors=13, weights='...   \n",
       "MLPClassifier                   MLPClassifier(activation='logistic', alpha=0.01)   \n",
       "KNeighborsClassifier           KNeighborsClassifier(n_neighbors=11, weights='...   \n",
       "MLPClassifier                                           MLPClassifier(alpha=0.1)   \n",
       "LinearDiscriminantAnalysis                          LinearDiscriminantAnalysis()   \n",
       "QuadraticDiscriminantAnalysis                    QuadraticDiscriminantAnalysis()   \n",
       "KNeighborsClassifier                        KNeighborsClassifier(n_neighbors=10)   \n",
       "KNeighborsClassifier           KNeighborsClassifier(n_neighbors=10, weights='...   \n",
       "KNeighborsClassifier                        KNeighborsClassifier(n_neighbors=11)   \n",
       "KNeighborsClassifier                        KNeighborsClassifier(n_neighbors=12)   \n",
       "\n",
       "                                 fit_time test_accuracy  \\\n",
       "KNeighborsClassifier           0.00520067      0.973518   \n",
       "MLPClassifier                     0.25959      0.973518   \n",
       "KNeighborsClassifier           0.00519938      0.973518   \n",
       "MLPClassifier                    0.357419      0.973123   \n",
       "LinearDiscriminantAnalysis     0.00819416      0.973123   \n",
       "QuadraticDiscriminantAnalysis   0.0304033      0.973123   \n",
       "KNeighborsClassifier           0.00500889      0.964427   \n",
       "KNeighborsClassifier            0.0049902      0.964427   \n",
       "KNeighborsClassifier            0.0047997      0.964427   \n",
       "KNeighborsClassifier           0.00500808      0.964427   \n",
       "\n",
       "                              test_balanced_accuracy std_test_score  \n",
       "KNeighborsClassifier                        0.974735      0.0391185  \n",
       "MLPClassifier                               0.973545      0.0391185  \n",
       "KNeighborsClassifier                        0.974735      0.0391185  \n",
       "MLPClassifier                               0.974735      0.0404439  \n",
       "LinearDiscriminantAnalysis                  0.974735      0.0404439  \n",
       "QuadraticDiscriminantAnalysis               0.974735      0.0404439  \n",
       "KNeighborsClassifier                        0.965212       0.036628  \n",
       "KNeighborsClassifier                        0.966402      0.0487305  \n",
       "KNeighborsClassifier                        0.965212       0.036628  \n",
       "KNeighborsClassifier                        0.965212       0.036628  "
      ]
     },
     "execution_count": 17,
     "metadata": {},
     "output_type": "execute_result"
    }
   ],
   "source": [
    "Score = CVscoreDF(MLA, train_X, y)\n",
    "Score.head(10)"
   ]
  },
  {
   "cell_type": "markdown",
   "metadata": {},
   "source": [
    "### Stack Ensembling\n",
    "https://scikit-learn.org/stable/modules/generated/sklearn.ensemble.StackingClassifier.html\n",
    "\n",
    "https://scikit-learn.org/stable/modules/linear_model.html"
   ]
  },
  {
   "cell_type": "code",
   "execution_count": 18,
   "metadata": {},
   "outputs": [
    {
     "data": {
      "text/plain": [
       "[('KNeighborsClassifier0',\n",
       "  KNeighborsClassifier(n_neighbors=13, weights='distance')),\n",
       " ('MLPClassifier1', MLPClassifier(activation='logistic', alpha=0.01)),\n",
       " ('KNeighborsClassifier2',\n",
       "  KNeighborsClassifier(n_neighbors=11, weights='distance')),\n",
       " ('MLPClassifier3', MLPClassifier(alpha=0.1)),\n",
       " ('LinearDiscriminantAnalysis4', LinearDiscriminantAnalysis())]"
      ]
     },
     "execution_count": 18,
     "metadata": {},
     "output_type": "execute_result"
    }
   ],
   "source": [
    "# List of the Classifiers to be stacked\n",
    "\n",
    "MLA = Score.models.head(32).to_list()\n",
    "Stack_estimators = [\n",
    "    (a.__class__.__name__ + str(i), a) for i, a in enumerate(MLA)\n",
    "]\n",
    "Stack_estimators[:5]"
   ]
  },
  {
   "cell_type": "code",
   "execution_count": 19,
   "metadata": {},
   "outputs": [
    {
     "data": {
      "text/plain": [
       "StackingClassifier(estimators=[('KNeighborsClassifier0',\n",
       "                                KNeighborsClassifier(n_neighbors=13,\n",
       "                                                     weights='distance')),\n",
       "                               ('MLPClassifier1',\n",
       "                                MLPClassifier(activation='logistic',\n",
       "                                              alpha=0.01)),\n",
       "                               ('KNeighborsClassifier2',\n",
       "                                KNeighborsClassifier(n_neighbors=11,\n",
       "                                                     weights='distance')),\n",
       "                               ('MLPClassifier3', MLPClassifier(alpha=0.1)),\n",
       "                               ('LinearDiscriminantAnalysis4',\n",
       "                                LinearDiscrim...\n",
       "                                MLPClassifier(activation='logistic',\n",
       "                                              alpha=0.001)),\n",
       "                               ('MLPClassifier25',\n",
       "                                MLPClassifier(activation='logistic')),\n",
       "                               ('MLPClassifier26',\n",
       "                                MLPClassifier(activation='logistic',\n",
       "                                              alpha=1e-05)),\n",
       "                               ('MLPClassifier27',\n",
       "                                MLPClassifier(activation='logistic',\n",
       "                                              alpha=1e-06)),\n",
       "                               ('MLPClassifier28', MLPClassifier(alpha=0.01)),\n",
       "                               ('MLPClassifier29', MLPClassifier(alpha=1e-05)), ...],\n",
       "                   final_estimator=LogisticRegressionCV())"
      ]
     },
     "execution_count": 19,
     "metadata": {},
     "output_type": "execute_result"
    }
   ],
   "source": [
    "LRstack = StackingClassifier(Stack_estimators, final_estimator=LogisticRegressionCV())\n",
    "LRstack.fit(train_X, y)"
   ]
  },
  {
   "cell_type": "code",
   "execution_count": 20,
   "metadata": {},
   "outputs": [
    {
     "data": {
      "text/plain": [
       "StackingClassifier(estimators=[('KNeighborsClassifier0',\n",
       "                                KNeighborsClassifier(n_neighbors=13,\n",
       "                                                     weights='distance')),\n",
       "                               ('MLPClassifier1',\n",
       "                                MLPClassifier(activation='logistic',\n",
       "                                              alpha=0.01)),\n",
       "                               ('KNeighborsClassifier2',\n",
       "                                KNeighborsClassifier(n_neighbors=11,\n",
       "                                                     weights='distance')),\n",
       "                               ('MLPClassifier3', MLPClassifier(alpha=0.1)),\n",
       "                               ('LinearDiscriminantAnalysis4',\n",
       "                                LinearDiscrim...\n",
       "                                MLPClassifier(activation='logistic',\n",
       "                                              alpha=0.001)),\n",
       "                               ('MLPClassifier25',\n",
       "                                MLPClassifier(activation='logistic')),\n",
       "                               ('MLPClassifier26',\n",
       "                                MLPClassifier(activation='logistic',\n",
       "                                              alpha=1e-05)),\n",
       "                               ('MLPClassifier27',\n",
       "                                MLPClassifier(activation='logistic',\n",
       "                                              alpha=1e-06)),\n",
       "                               ('MLPClassifier28', MLPClassifier(alpha=0.01)),\n",
       "                               ('MLPClassifier29', MLPClassifier(alpha=1e-05)), ...],\n",
       "                   final_estimator=LinearSVC())"
      ]
     },
     "execution_count": 20,
     "metadata": {},
     "output_type": "execute_result"
    }
   ],
   "source": [
    "LSstack = StackingClassifier(Stack_estimators, final_estimator=LinearSVC())\n",
    "LSstack.fit(train_X, y)"
   ]
  },
  {
   "cell_type": "code",
   "execution_count": 21,
   "metadata": {},
   "outputs": [
    {
     "data": {
      "text/plain": [
       "VotingClassifier(estimators=[('KNeighborsClassifier0',\n",
       "                              KNeighborsClassifier(n_neighbors=13,\n",
       "                                                   weights='distance')),\n",
       "                             ('MLPClassifier1',\n",
       "                              MLPClassifier(activation='logistic', alpha=0.01)),\n",
       "                             ('KNeighborsClassifier2',\n",
       "                              KNeighborsClassifier(n_neighbors=11,\n",
       "                                                   weights='distance')),\n",
       "                             ('MLPClassifier3', MLPClassifier(alpha=0.1)),\n",
       "                             ('LinearDiscriminantAnalysis4',\n",
       "                              LinearDiscrimin...\n",
       "                             ('MLPClassifier24',\n",
       "                              MLPClassifier(activation='logistic',\n",
       "                                            alpha=0.001)),\n",
       "                             ('MLPClassifier25',\n",
       "                              MLPClassifier(activation='logistic')),\n",
       "                             ('MLPClassifier26',\n",
       "                              MLPClassifier(activation='logistic',\n",
       "                                            alpha=1e-05)),\n",
       "                             ('MLPClassifier27',\n",
       "                              MLPClassifier(activation='logistic',\n",
       "                                            alpha=1e-06)),\n",
       "                             ('MLPClassifier28', MLPClassifier(alpha=0.01)),\n",
       "                             ('MLPClassifier29', MLPClassifier(alpha=1e-05)), ...])"
      ]
     },
     "execution_count": 21,
     "metadata": {},
     "output_type": "execute_result"
    }
   ],
   "source": [
    "Vstack = VotingClassifier(Stack_estimators)\n",
    "Vstack.fit(train_X, y)"
   ]
  },
  {
   "cell_type": "markdown",
   "metadata": {},
   "source": [
    "## Own Stack Classifier\n",
    "https://scikit-learn.org/stable/modules/generated/sklearn.feature_selection.RFECV.html"
   ]
  },
  {
   "cell_type": "code",
   "execution_count": 22,
   "metadata": {},
   "outputs": [],
   "source": [
    "TrainedMLA  = list(Stack_estimators)\n",
    "for n, alg in TrainedMLA:\n",
    "    alg.fit(train_X, y)"
   ]
  },
  {
   "cell_type": "code",
   "execution_count": 23,
   "metadata": {},
   "outputs": [],
   "source": [
    "def level1(X):\n",
    "    L1 = pd.DataFrame({'temp':X.index})\n",
    "    for name, alg in TrainedMLA:\n",
    "        L1[name] = alg.predict(X)\n",
    "\n",
    "    return L1.drop(columns = ['temp'])\n",
    "L1 = level1(train_X)"
   ]
  },
  {
   "cell_type": "code",
   "execution_count": 24,
   "metadata": {},
   "outputs": [],
   "source": [
    "FLSstack = RFECV(LinearSVC())\n",
    "FLRstack = RFECV(linear_model.LogisticRegression())"
   ]
  },
  {
   "cell_type": "code",
   "execution_count": 25,
   "metadata": {},
   "outputs": [
    {
     "name": "stdout",
     "output_type": "stream",
     "text": [
      "RFECV num Features: 1  Linear SVC mean accuracy: 1.0\n",
      "RFECV num Features: 1 \n",
      "\tLogistic Reg mean accuracy: 0.9964673913043478\n"
     ]
    }
   ],
   "source": [
    "FLSstack.fit(L1, y)\n",
    "FLRstack.fit(L1, y)\n",
    "print ('RFECV num Features:',FLSstack.n_features_, \n",
    "       ' Linear SVC mean accuracy:', FLSstack.grid_scores_.mean())\n",
    "print ('RFECV num Features:',FLSstack.n_features_, \n",
    "       '\\n\\tLogistic Reg mean accuracy:', FLRstack.grid_scores_.mean())"
   ]
  },
  {
   "cell_type": "markdown",
   "metadata": {},
   "source": [
    "### If still unsatisfied:\n",
    "https://mlens.readthedocs.io/en/0.1.x/source/mlens.ensemble/"
   ]
  },
  {
   "cell_type": "markdown",
   "metadata": {},
   "source": [
    "### Choose your Classifier and Predict on the test data set"
   ]
  },
  {
   "cell_type": "code",
   "execution_count": 26,
   "metadata": {},
   "outputs": [
    {
     "data": {
      "text/plain": [
       "KNeighborsClassifier(n_neighbors=13, weights='distance')"
      ]
     },
     "execution_count": 26,
     "metadata": {},
     "output_type": "execute_result"
    }
   ],
   "source": [
    "single_classifier = Score.models.iloc[0]\n",
    "single_classifier.fit(train_X, y)"
   ]
  },
  {
   "cell_type": "code",
   "execution_count": 27,
   "metadata": {},
   "outputs": [],
   "source": [
    "predictions_single = single_classifier.predict(test_X)\n",
    "predictions_SVCstack = LSstack.predict(test_X)\n",
    "predictions_LRstack = LRstack.predict(test_X)\n",
    "predictions_vstack = Vstack.predict(test_X)\n",
    "predictions_flsstack = FLSstack.predict(level1(test_X))"
   ]
  },
  {
   "cell_type": "code",
   "execution_count": 28,
   "metadata": {},
   "outputs": [
    {
     "name": "stdout",
     "output_type": "stream",
     "text": [
      "Single:  0.9736842105263158\n",
      "SVC Stack:  0.9736842105263158\n",
      "LR Stack:  0.9736842105263158\n",
      "Vote Ensemble:  1.0\n",
      "Own RFE Stack:  1.0\n"
     ]
    }
   ],
   "source": [
    "print ('Single: ', sklearn.metrics.accuracy_score(v, predictions_single))\n",
    "print ('SVC Stack: ', sklearn.metrics.accuracy_score(v, predictions_SVCstack))\n",
    "print ('LR Stack: ', sklearn.metrics.accuracy_score(v, predictions_LRstack))\n",
    "print ('Vote Ensemble: ', sklearn.metrics.accuracy_score(v, predictions_vstack))\n",
    "print ('Own RFE Stack: ', sklearn.metrics.accuracy_score(v, predictions_flsstack))"
   ]
  },
  {
   "cell_type": "code",
   "execution_count": 29,
   "metadata": {},
   "outputs": [],
   "source": [
    "# for name, predictions in [['single', predictions_single],\n",
    "#                     ['svcstack', predictions_SVCstack],\n",
    "#                     ['lrstack', predictions_LRstack],\n",
    "#                     ['vstack', predictions_vstack],\n",
    "#                     ['flsstack', predictions_flsstack]]:\n",
    "#     output = pd.DataFrame({'PassengerID': raw_test_data.PassengerId, 'Survived': predictions})\n",
    "#     output.to_csv(f'preds\\\\{name}_1.csv', index = False)"
   ]
  }
 ],
 "metadata": {
  "kernelspec": {
   "display_name": "Python 3.7.4 64-bit",
   "language": "python",
   "name": "python37464bitb122d7ed60ea485982511a1bcddbd83a"
  },
  "language_info": {
   "codemirror_mode": {
    "name": "ipython",
    "version": 3
   },
   "file_extension": ".py",
   "mimetype": "text/x-python",
   "name": "python",
   "nbconvert_exporter": "python",
   "pygments_lexer": "ipython3",
   "version": "3.7.4"
  }
 },
 "nbformat": 4,
 "nbformat_minor": 2
}
