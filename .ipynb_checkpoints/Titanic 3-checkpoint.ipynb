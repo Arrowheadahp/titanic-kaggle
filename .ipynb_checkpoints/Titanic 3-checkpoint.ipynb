{
 "cells": [
  {
   "cell_type": "markdown",
   "metadata": {},
   "source": [
    "### Import Libraries"
   ]
  },
  {
   "cell_type": "code",
   "execution_count": 1,
   "metadata": {},
   "outputs": [],
   "source": [
    "import pandas as pd\n",
    "import numpy as np\n",
    "import sklearn\n",
    "\n",
    "import warnings\n",
    "warnings.filterwarnings('ignore')\n",
    "\n",
    "import matplotlib.pyplot as plt\n",
    "import seaborn as sns\n",
    "from matplotlib import style\n",
    "style.use('ggplot')\n",
    "\n",
    "from sklearn.model_selection import KFold, GridSearchCV, cross_validate, ParameterGrid, train_test_split, cross_val_score\n",
    "from sklearn.base import clone\n",
    "from sklearn.preprocessing import StandardScaler, LabelEncoder\n",
    "\n",
    "from sklearn.neural_network import MLPClassifier\n",
    "from sklearn.neighbors import KNeighborsClassifier, RadiusNeighborsClassifier\n",
    "from sklearn.svm import SVC, LinearSVC, NuSVC\n",
    "from sklearn.gaussian_process import GaussianProcessClassifier\n",
    "from sklearn.tree import DecisionTreeClassifier, plot_tree\n",
    "from sklearn.ensemble import RandomForestClassifier, AdaBoostClassifier, GradientBoostingClassifier\n",
    "from sklearn.naive_bayes import GaussianNB\n",
    "from sklearn.discriminant_analysis import QuadraticDiscriminantAnalysis, LinearDiscriminantAnalysis\n",
    "from sklearn.linear_model import SGDClassifier\n",
    "\n",
    "from sklearn import (\n",
    "    ensemble, \n",
    "    gaussian_process,\n",
    "    linear_model,\n",
    "    naive_bayes,\n",
    "    tree, \n",
    "    discriminant_analysis\n",
    ")\n",
    "\n",
    "from sklearn.ensemble import StackingClassifier, VotingClassifier"
   ]
  },
  {
   "cell_type": "markdown",
   "metadata": {},
   "source": [
    "### Import the Train data set and Test data set "
   ]
  },
  {
   "cell_type": "code",
   "execution_count": 2,
   "metadata": {},
   "outputs": [],
   "source": [
    "loc_train = 'data\\\\train.csv'\n",
    "loc_test = \n",
    "\n",
    "raw_train_data = pd.read_csv(loc_train)\n",
    "y = raw_train_data[target]\n",
    "raw_test_data = pd.read_csv(loc_test)\n",
    "raw_train_data.head(5)"
   ]
  },
  {
   "cell_type": "code",
   "execution_count": 3,
   "metadata": {},
   "outputs": [
    {
     "data": {
      "text/html": [
       "<div>\n",
       "<style scoped>\n",
       "    .dataframe tbody tr th:only-of-type {\n",
       "        vertical-align: middle;\n",
       "    }\n",
       "\n",
       "    .dataframe tbody tr th {\n",
       "        vertical-align: top;\n",
       "    }\n",
       "\n",
       "    .dataframe thead th {\n",
       "        text-align: right;\n",
       "    }\n",
       "</style>\n",
       "<table border=\"1\" class=\"dataframe\">\n",
       "  <thead>\n",
       "    <tr style=\"text-align: right;\">\n",
       "      <th></th>\n",
       "      <th>sepal length (cm)</th>\n",
       "      <th>sepal width (cm)</th>\n",
       "      <th>petal length (cm)</th>\n",
       "      <th>petal width (cm)</th>\n",
       "    </tr>\n",
       "  </thead>\n",
       "  <tbody>\n",
       "    <tr>\n",
       "      <th>141</th>\n",
       "      <td>6.9</td>\n",
       "      <td>3.1</td>\n",
       "      <td>5.1</td>\n",
       "      <td>2.3</td>\n",
       "    </tr>\n",
       "    <tr>\n",
       "      <th>40</th>\n",
       "      <td>5.0</td>\n",
       "      <td>3.5</td>\n",
       "      <td>1.3</td>\n",
       "      <td>0.3</td>\n",
       "    </tr>\n",
       "    <tr>\n",
       "      <th>97</th>\n",
       "      <td>6.2</td>\n",
       "      <td>2.9</td>\n",
       "      <td>4.3</td>\n",
       "      <td>1.3</td>\n",
       "    </tr>\n",
       "    <tr>\n",
       "      <th>14</th>\n",
       "      <td>5.8</td>\n",
       "      <td>4.0</td>\n",
       "      <td>1.2</td>\n",
       "      <td>0.2</td>\n",
       "    </tr>\n",
       "    <tr>\n",
       "      <th>100</th>\n",
       "      <td>6.3</td>\n",
       "      <td>3.3</td>\n",
       "      <td>6.0</td>\n",
       "      <td>2.5</td>\n",
       "    </tr>\n",
       "  </tbody>\n",
       "</table>\n",
       "</div>"
      ],
      "text/plain": [
       "     sepal length (cm)  sepal width (cm)  petal length (cm)  petal width (cm)\n",
       "141                6.9               3.1                5.1               2.3\n",
       "40                 5.0               3.5                1.3               0.3\n",
       "97                 6.2               2.9                4.3               1.3\n",
       "14                 5.8               4.0                1.2               0.2\n",
       "100                6.3               3.3                6.0               2.5"
      ]
     },
     "execution_count": 3,
     "metadata": {},
     "output_type": "execute_result"
    }
   ],
   "source": [
    "# from sklearn.datasets import load_iris\n",
    "# R, t = load_iris(True, True)\n",
    "# raw_train_data, raw_test_data, y, v = train_test_split(R, t, random_state=47)\n",
    "# raw_train_data.head(5)"
   ]
  },
  {
   "cell_type": "code",
   "execution_count": 4,
   "metadata": {},
   "outputs": [
    {
     "name": "stdout",
     "output_type": "stream",
     "text": [
      "<class 'pandas.core.frame.DataFrame'>\n",
      "Int64Index: 112 entries, 141 to 135\n",
      "Data columns (total 4 columns):\n",
      " #   Column             Non-Null Count  Dtype  \n",
      "---  ------             --------------  -----  \n",
      " 0   sepal length (cm)  112 non-null    float64\n",
      " 1   sepal width (cm)   112 non-null    float64\n",
      " 2   petal length (cm)  112 non-null    float64\n",
      " 3   petal width (cm)   112 non-null    float64\n",
      "dtypes: float64(4)\n",
      "memory usage: 4.4 KB\n"
     ]
    }
   ],
   "source": [
    "raw_train_data.info()"
   ]
  },
  {
   "cell_type": "markdown",
   "metadata": {},
   "source": [
    "### Prepare the data for Machine Learning"
   ]
  },
  {
   "cell_type": "code",
   "execution_count": 5,
   "metadata": {},
   "outputs": [],
   "source": [
    "def prepare(raw_DF):\n",
    "    DF = raw_DF.copy()\n",
    "    \n",
    "    return DF"
   ]
  },
  {
   "cell_type": "code",
   "execution_count": 6,
   "metadata": {},
   "outputs": [
    {
     "data": {
      "text/html": [
       "<div>\n",
       "<style scoped>\n",
       "    .dataframe tbody tr th:only-of-type {\n",
       "        vertical-align: middle;\n",
       "    }\n",
       "\n",
       "    .dataframe tbody tr th {\n",
       "        vertical-align: top;\n",
       "    }\n",
       "\n",
       "    .dataframe thead th {\n",
       "        text-align: right;\n",
       "    }\n",
       "</style>\n",
       "<table border=\"1\" class=\"dataframe\">\n",
       "  <thead>\n",
       "    <tr style=\"text-align: right;\">\n",
       "      <th></th>\n",
       "      <th>sepal length (cm)</th>\n",
       "      <th>sepal width (cm)</th>\n",
       "      <th>petal length (cm)</th>\n",
       "      <th>petal width (cm)</th>\n",
       "      <th>y</th>\n",
       "    </tr>\n",
       "  </thead>\n",
       "  <tbody>\n",
       "    <tr>\n",
       "      <th>141</th>\n",
       "      <td>6.9</td>\n",
       "      <td>3.1</td>\n",
       "      <td>5.1</td>\n",
       "      <td>2.3</td>\n",
       "      <td>2</td>\n",
       "    </tr>\n",
       "    <tr>\n",
       "      <th>40</th>\n",
       "      <td>5.0</td>\n",
       "      <td>3.5</td>\n",
       "      <td>1.3</td>\n",
       "      <td>0.3</td>\n",
       "      <td>0</td>\n",
       "    </tr>\n",
       "    <tr>\n",
       "      <th>97</th>\n",
       "      <td>6.2</td>\n",
       "      <td>2.9</td>\n",
       "      <td>4.3</td>\n",
       "      <td>1.3</td>\n",
       "      <td>1</td>\n",
       "    </tr>\n",
       "    <tr>\n",
       "      <th>14</th>\n",
       "      <td>5.8</td>\n",
       "      <td>4.0</td>\n",
       "      <td>1.2</td>\n",
       "      <td>0.2</td>\n",
       "      <td>0</td>\n",
       "    </tr>\n",
       "    <tr>\n",
       "      <th>100</th>\n",
       "      <td>6.3</td>\n",
       "      <td>3.3</td>\n",
       "      <td>6.0</td>\n",
       "      <td>2.5</td>\n",
       "      <td>2</td>\n",
       "    </tr>\n",
       "  </tbody>\n",
       "</table>\n",
       "</div>"
      ],
      "text/plain": [
       "     sepal length (cm)  sepal width (cm)  petal length (cm)  petal width (cm)  \\\n",
       "141                6.9               3.1                5.1               2.3   \n",
       "40                 5.0               3.5                1.3               0.3   \n",
       "97                 6.2               2.9                4.3               1.3   \n",
       "14                 5.8               4.0                1.2               0.2   \n",
       "100                6.3               3.3                6.0               2.5   \n",
       "\n",
       "     y  \n",
       "141  2  \n",
       "40   0  \n",
       "97   1  \n",
       "14   0  \n",
       "100  2  "
      ]
     },
     "execution_count": 6,
     "metadata": {},
     "output_type": "execute_result"
    }
   ],
   "source": [
    "train_X = prepare(raw_train_data)\n",
    "test_X = prepare(raw_test_data)\n",
    "\n",
    "F = train_X.copy()\n",
    "F['y'] = y\n",
    "F.head()"
   ]
  },
  {
   "cell_type": "code",
   "execution_count": 7,
   "metadata": {},
   "outputs": [
    {
     "name": "stdout",
     "output_type": "stream",
     "text": [
      "<class 'pandas.core.frame.DataFrame'>\n",
      "Int64Index: 112 entries, 141 to 135\n",
      "Data columns (total 5 columns):\n",
      " #   Column             Non-Null Count  Dtype  \n",
      "---  ------             --------------  -----  \n",
      " 0   sepal length (cm)  112 non-null    float64\n",
      " 1   sepal width (cm)   112 non-null    float64\n",
      " 2   petal length (cm)  112 non-null    float64\n",
      " 3   petal width (cm)   112 non-null    float64\n",
      " 4   y                  112 non-null    int32  \n",
      "dtypes: float64(4), int32(1)\n",
      "memory usage: 4.8 KB\n"
     ]
    }
   ],
   "source": [
    "F.info()"
   ]
  },
  {
   "cell_type": "markdown",
   "metadata": {},
   "source": [
    "### Visualize"
   ]
  },
  {
   "cell_type": "code",
   "execution_count": 8,
   "metadata": {},
   "outputs": [
    {
     "data": {
      "text/plain": [
       "y                    1.000000\n",
       "petal width (cm)     0.951579\n",
       "petal length (cm)    0.941538\n",
       "sepal length (cm)    0.764725\n",
       "sepal width (cm)     0.420166\n",
       "Name: y, dtype: float64"
      ]
     },
     "execution_count": 8,
     "metadata": {},
     "output_type": "execute_result"
    }
   ],
   "source": [
    "F.corr().abs().sort_values('y', ascending=False).y"
   ]
  },
  {
   "cell_type": "code",
   "execution_count": 9,
   "metadata": {},
   "outputs": [
    {
     "data": {
      "image/png": "[encoded data removed]",
      "text/plain": [
       "<Figure size 1008x504 with 1 Axes>"
      ]
     },
     "metadata": {},
     "output_type": "display_data"
    }
   ],
   "source": [
    "dt = DecisionTreeClassifier().fit(train_X, y)\n",
    "plt.figure(figsize = (14, 7))\n",
    "plot_tree(dt, \n",
    "          max_depth = 3, \n",
    "          filled = True\n",
    "         )\n",
    "plt.title('Features')\n",
    "plt.show()"
   ]
  },
  {
   "cell_type": "markdown",
   "metadata": {},
   "source": [
    "### List of Classifiers\n",
    "https://scikit-learn.org/stable/supervised_learning.html"
   ]
  },
  {
   "cell_type": "code",
   "execution_count": 10,
   "metadata": {},
   "outputs": [],
   "source": [
    "# https://scikit-learn.org/stable/supervised_learning.html\n",
    "\n",
    "Classifiers_small = [\n",
    "    MLPClassifier(), \n",
    "    KNeighborsClassifier(), \n",
    "    SVC(class_weight='balanced'), \n",
    "    SGDClassifier(class_weight='balanced'), \n",
    "    RandomForestClassifier(class_weight='balanced')\n",
    "]\n",
    "\n",
    "Classifiers_medium = [\n",
    "    LinearSVC(class_weight='balanced'),\n",
    "    GaussianProcessClassifier(), \n",
    "    DecisionTreeClassifier(class_weight='balanced'), \n",
    "    AdaBoostClassifier(), \n",
    "    GaussianNB(), \n",
    "    QuadraticDiscriminantAnalysis(), \n",
    "    GradientBoostingClassifier(), \n",
    "]\n",
    "\n",
    "Classifiers_large = [    \n",
    "    linear_model.LogisticRegressionCV(), \n",
    "    linear_model.PassiveAggressiveClassifier(), \n",
    "    linear_model.RidgeClassifierCV(), \n",
    "    linear_model.Perceptron(), \n",
    "    \n",
    "    NuSVC(class_weight='balanced'), \n",
    "    RadiusNeighborsClassifier(), \n",
    "    LinearDiscriminantAnalysis(),\n",
    "    \n",
    "    naive_bayes.MultinomialNB(), \n",
    "    naive_bayes.ComplementNB(), \n",
    "    naive_bayes.BernoulliNB(), \n",
    "    naive_bayes.CategoricalNB(), \n",
    "    \n",
    "    ensemble.ExtraTreesClassifier(class_weight='balanced'),\n",
    "]"
   ]
  },
  {
   "cell_type": "markdown",
   "metadata": {},
   "source": [
    "### Tips on Practical Use of some classifiers\n",
    "\n",
    "https://scikit-learn.org/stable/modules/svm.html#tips-on-practical-use\n",
    "\n",
    "https://scikit-learn.org/stable/modules/sgd.html#tips-on-practical-use\n",
    "\n",
    "https://scikit-learn.org/stable/modules/tree.html#tips-on-practical-use\n",
    "\n",
    "https://scikit-learn.org/stable/modules/neural_networks_supervised.html#tips-on-practical-use\n"
   ]
  },
  {
   "cell_type": "markdown",
   "metadata": {},
   "source": [
    "### Parameter Grid"
   ]
  },
  {
   "cell_type": "code",
   "execution_count": 11,
   "metadata": {},
   "outputs": [],
   "source": [
    "# parameter tuning\n",
    "mlpc_parameters = {\n",
    "    'activation': ['relu', 'logistic'], \n",
    "    'alpha': 10.0 ** -np.arange(1, 7),\n",
    "}\n",
    "\n",
    "knn_parameters = {\n",
    "    'n_neighbors': range(1, 20),\n",
    "    'weights': ['uniform', 'distance']\n",
    "}\n",
    "\n",
    "svc_parameters = {\n",
    "    'class_weight': ['balanced', None],\n",
    "    'gamma': ['scale', 'auto']    \n",
    "}\n",
    "\n",
    "sgd_parameters = {\n",
    "    'alpha': 10.0**-np.arange(1,7),\n",
    "    'class_weight': [None, 'balanced'],\n",
    "}\n",
    "\n",
    "rf_parameters = {\n",
    "    'n_estimators': [500], \n",
    "    'class_weight': ['balanced', None]\n",
    "}"
   ]
  },
  {
   "cell_type": "markdown",
   "metadata": {},
   "source": [
    "### Making the list of Classifiers"
   ]
  },
  {
   "cell_type": "code",
   "execution_count": 12,
   "metadata": {},
   "outputs": [],
   "source": [
    "mlpc_models = [MLPClassifier(**params) for params in ParameterGrid(mlpc_parameters)]\n",
    "knn_models = [KNeighborsClassifier(**params) for params in ParameterGrid(knn_parameters)]\n",
    "svc_models = [SVC(**params) for params in ParameterGrid(svc_parameters)]\n",
    "sgd_models = [SGDClassifier(**params) for params in ParameterGrid(sgd_parameters)]\n",
    "rf_models = [RandomForestClassifier(**params) for params in ParameterGrid(rf_parameters)]"
   ]
  },
  {
   "cell_type": "code",
   "execution_count": 13,
   "metadata": {},
   "outputs": [],
   "source": [
    "MLA = Classifiers_small\n",
    "MLA = mlpc_models + knn_models + svc_models + sgd_models + rf_models\n",
    "MLA = MLA + Classifiers_medium\n",
    "MLA = MLA + Classifiers_large"
   ]
  },
  {
   "cell_type": "markdown",
   "metadata": {},
   "source": [
    "### Checking the accuracy of each of the Classifiers\n",
    "https://scikit-learn.org/stable/modules/generated/sklearn.model_selection.cross_validate.html"
   ]
  },
  {
   "cell_type": "code",
   "execution_count": 14,
   "metadata": {},
   "outputs": [],
   "source": [
    "paramlist = ['activation', 'alpha', 'class_weight', 'n_neighbours', 'weights', 'gamma', 'n_estimators',\n",
    "            'final_estimator']\n",
    "metrics = ['fit_time', 'test_score']\n",
    "def cv(alg, X, y):\n",
    "    name = alg.__class__.__name__\n",
    "#     print (alg)\n",
    "#     params = alg.get_params()\n",
    "#     imp_params = {p: params[p] for p in params if p in paramlist}\n",
    "    \n",
    "    score = pd.DataFrame(cross_validate(alg, X, y, scoring='accuracy'))\n",
    "#     print (score.mean())\n",
    "    \n",
    "    df = pd.DataFrame({\n",
    "        name: [alg] + \n",
    "        #[imp_params] + \n",
    "        [score[i].mean() for i in metrics] + [score['test_score'].std()]\n",
    "    })\n",
    "    \n",
    "    return df.transpose()\n",
    "\n",
    "def CVscoreDF(MLA, X, y):\n",
    "    M = pd.DataFrame()\n",
    "    for alg in MLA:\n",
    "        M = M.append(cv(alg, X, y))\n",
    "\n",
    "    M = M.rename(columns={i: c for i, c in enumerate(['models']+metrics+['std_test_score'])})\n",
    "    M = M.sort_values('test_score', ascending = False)\n",
    "    return M"
   ]
  },
  {
   "cell_type": "code",
   "execution_count": 15,
   "metadata": {
    "scrolled": true
   },
   "outputs": [
    {
     "data": {
      "text/html": [
       "<div>\n",
       "<style scoped>\n",
       "    .dataframe tbody tr th:only-of-type {\n",
       "        vertical-align: middle;\n",
       "    }\n",
       "\n",
       "    .dataframe tbody tr th {\n",
       "        vertical-align: top;\n",
       "    }\n",
       "\n",
       "    .dataframe thead th {\n",
       "        text-align: right;\n",
       "    }\n",
       "</style>\n",
       "<table border=\"1\" class=\"dataframe\">\n",
       "  <thead>\n",
       "    <tr style=\"text-align: right;\">\n",
       "      <th></th>\n",
       "      <th>models</th>\n",
       "      <th>fit_time</th>\n",
       "      <th>test_score</th>\n",
       "      <th>std_test_score</th>\n",
       "    </tr>\n",
       "  </thead>\n",
       "  <tbody>\n",
       "    <tr>\n",
       "      <th>KNeighborsClassifier</th>\n",
       "      <td>KNeighborsClassifier(n_neighbors=11, weights='...</td>\n",
       "      <td>0.00199971</td>\n",
       "      <td>0.973518</td>\n",
       "      <td>0.0391185</td>\n",
       "    </tr>\n",
       "    <tr>\n",
       "      <th>KNeighborsClassifier</th>\n",
       "      <td>KNeighborsClassifier(n_neighbors=13, weights='...</td>\n",
       "      <td>0.00259905</td>\n",
       "      <td>0.973518</td>\n",
       "      <td>0.0391185</td>\n",
       "    </tr>\n",
       "    <tr>\n",
       "      <th>MLPClassifier</th>\n",
       "      <td>MLPClassifier(alpha=0.001)</td>\n",
       "      <td>0.136192</td>\n",
       "      <td>0.973123</td>\n",
       "      <td>0.0404439</td>\n",
       "    </tr>\n",
       "    <tr>\n",
       "      <th>LinearDiscriminantAnalysis</th>\n",
       "      <td>LinearDiscriminantAnalysis()</td>\n",
       "      <td>0.00240784</td>\n",
       "      <td>0.973123</td>\n",
       "      <td>0.0404439</td>\n",
       "    </tr>\n",
       "    <tr>\n",
       "      <th>MLPClassifier</th>\n",
       "      <td>MLPClassifier(alpha=1e-06)</td>\n",
       "      <td>0.1348</td>\n",
       "      <td>0.973123</td>\n",
       "      <td>0.0404439</td>\n",
       "    </tr>\n",
       "    <tr>\n",
       "      <th>QuadraticDiscriminantAnalysis</th>\n",
       "      <td>QuadraticDiscriminantAnalysis()</td>\n",
       "      <td>0.00259786</td>\n",
       "      <td>0.973123</td>\n",
       "      <td>0.0404439</td>\n",
       "    </tr>\n",
       "    <tr>\n",
       "      <th>KNeighborsClassifier</th>\n",
       "      <td>KNeighborsClassifier(n_neighbors=12, weights='...</td>\n",
       "      <td>0.00220017</td>\n",
       "      <td>0.964427</td>\n",
       "      <td>0.0487305</td>\n",
       "    </tr>\n",
       "    <tr>\n",
       "      <th>KNeighborsClassifier</th>\n",
       "      <td>KNeighborsClassifier(n_neighbors=14, weights='...</td>\n",
       "      <td>0.00220056</td>\n",
       "      <td>0.964427</td>\n",
       "      <td>0.036628</td>\n",
       "    </tr>\n",
       "    <tr>\n",
       "      <th>KNeighborsClassifier</th>\n",
       "      <td>KNeighborsClassifier(n_neighbors=14)</td>\n",
       "      <td>0.00240602</td>\n",
       "      <td>0.964427</td>\n",
       "      <td>0.036628</td>\n",
       "    </tr>\n",
       "    <tr>\n",
       "      <th>KNeighborsClassifier</th>\n",
       "      <td>KNeighborsClassifier(n_neighbors=13)</td>\n",
       "      <td>0.00260043</td>\n",
       "      <td>0.964427</td>\n",
       "      <td>0.036628</td>\n",
       "    </tr>\n",
       "  </tbody>\n",
       "</table>\n",
       "</div>"
      ],
      "text/plain": [
       "                                                                          models  \\\n",
       "KNeighborsClassifier           KNeighborsClassifier(n_neighbors=11, weights='...   \n",
       "KNeighborsClassifier           KNeighborsClassifier(n_neighbors=13, weights='...   \n",
       "MLPClassifier                                         MLPClassifier(alpha=0.001)   \n",
       "LinearDiscriminantAnalysis                          LinearDiscriminantAnalysis()   \n",
       "MLPClassifier                                         MLPClassifier(alpha=1e-06)   \n",
       "QuadraticDiscriminantAnalysis                    QuadraticDiscriminantAnalysis()   \n",
       "KNeighborsClassifier           KNeighborsClassifier(n_neighbors=12, weights='...   \n",
       "KNeighborsClassifier           KNeighborsClassifier(n_neighbors=14, weights='...   \n",
       "KNeighborsClassifier                        KNeighborsClassifier(n_neighbors=14)   \n",
       "KNeighborsClassifier                        KNeighborsClassifier(n_neighbors=13)   \n",
       "\n",
       "                                 fit_time test_score std_test_score  \n",
       "KNeighborsClassifier           0.00199971   0.973518      0.0391185  \n",
       "KNeighborsClassifier           0.00259905   0.973518      0.0391185  \n",
       "MLPClassifier                    0.136192   0.973123      0.0404439  \n",
       "LinearDiscriminantAnalysis     0.00240784   0.973123      0.0404439  \n",
       "MLPClassifier                      0.1348   0.973123      0.0404439  \n",
       "QuadraticDiscriminantAnalysis  0.00259786   0.973123      0.0404439  \n",
       "KNeighborsClassifier           0.00220017   0.964427      0.0487305  \n",
       "KNeighborsClassifier           0.00220056   0.964427       0.036628  \n",
       "KNeighborsClassifier           0.00240602   0.964427       0.036628  \n",
       "KNeighborsClassifier           0.00260043   0.964427       0.036628  "
      ]
     },
     "execution_count": 15,
     "metadata": {},
     "output_type": "execute_result"
    }
   ],
   "source": [
    "Score = CVscoreDF(MLA, train_X, y)\n",
    "Score.head(10)"
   ]
  },
  {
   "cell_type": "markdown",
   "metadata": {},
   "source": [
    "### Stack Ensembling\n",
    "https://scikit-learn.org/stable/modules/generated/sklearn.ensemble.StackingClassifier.html\n",
    "\n",
    "https://scikit-learn.org/stable/modules/linear_model.html"
   ]
  },
  {
   "cell_type": "code",
   "execution_count": 16,
   "metadata": {},
   "outputs": [
    {
     "data": {
      "text/plain": [
       "[('KNeighborsClassifier0',\n",
       "  KNeighborsClassifier(n_neighbors=11, weights='distance')),\n",
       " ('KNeighborsClassifier1',\n",
       "  KNeighborsClassifier(n_neighbors=13, weights='distance')),\n",
       " ('MLPClassifier2', MLPClassifier(alpha=0.001)),\n",
       " ('LinearDiscriminantAnalysis3', LinearDiscriminantAnalysis()),\n",
       " ('MLPClassifier4', MLPClassifier(alpha=1e-06))]"
      ]
     },
     "execution_count": 16,
     "metadata": {},
     "output_type": "execute_result"
    }
   ],
   "source": [
    "# List of the Classifiers to be stacked\n",
    "\n",
    "MLA = Score.models.head(40).to_list()\n",
    "Stack_estimators = [\n",
    "    (a.__class__.__name__ + str(i), a) for i, a in enumerate(MLA)\n",
    "]\n",
    "Stack_estimators[:5]"
   ]
  },
  {
   "cell_type": "code",
   "execution_count": 17,
   "metadata": {},
   "outputs": [],
   "source": [
    "stack_parameters = {\n",
    "    'final_estimator': [\n",
    "        LinearSVC(), \n",
    "        linear_model.Perceptron(), \n",
    "        linear_model.LogisticRegressionCV(), \n",
    "        None\n",
    "    ] #+ sgd_models\n",
    "}\n",
    "# stack_models = [StackingClassifier(Stack_estimators, **params) for params in ParameterGrid(stack_parameters)]\n",
    "gscv = GridSearchCV(StackingClassifier(Stack_estimators), stack_parameters)"
   ]
  },
  {
   "cell_type": "code",
   "execution_count": 18,
   "metadata": {},
   "outputs": [
    {
     "data": {
      "text/html": [
       "<div>\n",
       "<style scoped>\n",
       "    .dataframe tbody tr th:only-of-type {\n",
       "        vertical-align: middle;\n",
       "    }\n",
       "\n",
       "    .dataframe tbody tr th {\n",
       "        vertical-align: top;\n",
       "    }\n",
       "\n",
       "    .dataframe thead th {\n",
       "        text-align: right;\n",
       "    }\n",
       "</style>\n",
       "<table border=\"1\" class=\"dataframe\">\n",
       "  <thead>\n",
       "    <tr style=\"text-align: right;\">\n",
       "      <th></th>\n",
       "      <th>params</th>\n",
       "      <th>mean_test_score</th>\n",
       "      <th>rank_test_score</th>\n",
       "      <th>std_test_score</th>\n",
       "    </tr>\n",
       "  </thead>\n",
       "  <tbody>\n",
       "    <tr>\n",
       "      <th>1</th>\n",
       "      <td>{'final_estimator': Perceptron()}</td>\n",
       "      <td>0.964427</td>\n",
       "      <td>1</td>\n",
       "      <td>0.043586</td>\n",
       "    </tr>\n",
       "    <tr>\n",
       "      <th>0</th>\n",
       "      <td>{'final_estimator': LinearSVC()}</td>\n",
       "      <td>0.955336</td>\n",
       "      <td>2</td>\n",
       "      <td>0.039794</td>\n",
       "    </tr>\n",
       "    <tr>\n",
       "      <th>2</th>\n",
       "      <td>{'final_estimator': LogisticRegressionCV()}</td>\n",
       "      <td>0.955336</td>\n",
       "      <td>2</td>\n",
       "      <td>0.039794</td>\n",
       "    </tr>\n",
       "  </tbody>\n",
       "</table>\n",
       "</div>"
      ],
      "text/plain": [
       "                                        params  mean_test_score  \\\n",
       "1            {'final_estimator': Perceptron()}         0.964427   \n",
       "0             {'final_estimator': LinearSVC()}         0.955336   \n",
       "2  {'final_estimator': LogisticRegressionCV()}         0.955336   \n",
       "\n",
       "   rank_test_score  std_test_score  \n",
       "1                1        0.043586  \n",
       "0                2        0.039794  \n",
       "2                2        0.039794  "
      ]
     },
     "execution_count": 18,
     "metadata": {},
     "output_type": "execute_result"
    }
   ],
   "source": [
    "gscv.fit(train_X, y)\n",
    "score = pd.DataFrame(gscv.cv_results_).sort_values('rank_test_score')\n",
    "score[['params', 'mean_test_score', 'rank_test_score', 'std_test_score']].head()\n",
    "# score = CVscoreDF(stack_models, train_X, y)\n",
    "# score"
   ]
  },
  {
   "cell_type": "markdown",
   "metadata": {},
   "source": [
    "### If still unsatisfied:\n",
    "https://mlens.readthedocs.io/en/0.1.x/source/mlens.ensemble/"
   ]
  },
  {
   "cell_type": "markdown",
   "metadata": {},
   "source": [
    "### Choose your Classifier and Predict on the test data set"
   ]
  },
  {
   "cell_type": "code",
   "execution_count": 20,
   "metadata": {},
   "outputs": [
    {
     "data": {
      "text/plain": [
       "KNeighborsClassifier(n_neighbors=11, weights='distance')"
      ]
     },
     "execution_count": 20,
     "metadata": {},
     "output_type": "execute_result"
    }
   ],
   "source": [
    "final_classifier = Score.models.iloc[0]\n",
    "final_classifier.fit(train_X, y)"
   ]
  },
  {
   "cell_type": "code",
   "execution_count": 21,
   "metadata": {},
   "outputs": [],
   "source": [
    "predictions = final_classifier.predict(test_X)"
   ]
  },
  {
   "cell_type": "code",
   "execution_count": 22,
   "metadata": {},
   "outputs": [
    {
     "data": {
      "text/plain": [
       "1.0"
      ]
     },
     "execution_count": 22,
     "metadata": {},
     "output_type": "execute_result"
    }
   ],
   "source": [
    "sklearn.metrics.accuracy_score(v, predictions)"
   ]
  },
  {
   "cell_type": "code",
   "execution_count": null,
   "metadata": {},
   "outputs": [],
   "source": []
  }
 ],
 "metadata": {
  "kernelspec": {
   "display_name": "Python 3.7.4 64-bit",
   "language": "python",
   "name": "python37464bitb122d7ed60ea485982511a1bcddbd83a"
  },
  "language_info": {
   "codemirror_mode": {
    "name": "ipython",
    "version": 3
   },
   "file_extension": ".py",
   "mimetype": "text/x-python",
   "name": "python",
   "nbconvert_exporter": "python",
   "pygments_lexer": "ipython3",
   "version": "3.7.4"
  }
 },
 "nbformat": 4,
 "nbformat_minor": 2
}
